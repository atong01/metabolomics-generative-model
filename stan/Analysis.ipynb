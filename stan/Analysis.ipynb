{
 "cells": [
  {
   "cell_type": "code",
   "execution_count": 1,
   "metadata": {
    "collapsed": false,
    "deletable": true,
    "editable": true
   },
   "outputs": [
    {
     "name": "stdout",
     "output_type": "stream",
     "text": [
      "56\n",
      "34\n",
      "56\n",
      "{'C00792': 0.752925345190733, 'C00059': 0.75, 'C03406': 0.75, 'C16551': 0.830452880110639, 'C00740': 0.75, 'C12248': 0.75, 'C00262': 0.75, 'C05381': 0.75, 'C11133': 0.75, 'C00618': 0.841050449205252, 'C00242': 0.75, 'C05579': 0.75, 'C03680': 0.865107098756241, 'C04281': 0.833814727018779, 'C16353': 0.840025618737614, 'C21028': 0.760632344711808, 'C00819': 0.813041486171276, 'C05938': 0.940727329974811, 'C19595': 0.796102860998831, 'C05634': 0.801762221900336, 'C01081': 0.75, 'C04554': 0.848534648041632, 'C05951': 0.75, 'C00152': 0.770587008106844, 'C07086': 0.867288961038961, 'C03170': 0.75, 'C04352': 0.9375, 'C11132': 0.75, 'C00931': 0.75, 'C05198': 0.782492265615414, 'C16587': 0.838227370689655, 'C00637': 0.859908118701591, 'C03691': 0.75, 'C00061': 0.75}\n"
     ]
    }
   ],
   "source": [
    "import pystan as ps\n",
    "import read\n",
    "import numpy as np\n",
    "import pickle\n",
    "\n",
    "include_soft_evidence = False\n",
    "paths, mets, met_mask, y = read.get_matrix_form(include_soft_evidence)"
   ]
  },
  {
   "cell_type": "code",
   "execution_count": 2,
   "metadata": {
    "collapsed": false,
    "deletable": true,
    "editable": true
   },
   "outputs": [
    {
     "name": "stdout",
     "output_type": "stream",
     "text": [
      "[2, 5, 6, 7, 7, 7, 7, 8, 8, 9, 10, 10, 11, 11, 12, 13, 14, 15, 15, 15, 15, 17, 17, 18, 18, 18, 19, 20, 20, 21, 22, 23, 23, 23, 23, 24, 24, 25, 25, 25, 26, 26, 28, 28, 28, 28, 29, 30, 30, 30, 31, 31, 31, 32, 33, 33, 38, 39, 39, 39, 40, 43, 43, 43, 44, 45, 46, 46, 47, 49, 50, 50, 51, 52, 52, 53, 53, 55, 57, 62, 70, 72, 73, 80, 87, 91]\n"
     ]
    }
   ],
   "source": [
    "print (sorted(np.sum(met_mask, axis = 1)))"
   ]
  },
  {
   "cell_type": "code",
   "execution_count": 3,
   "metadata": {
    "collapsed": false,
    "deletable": true,
    "editable": true
   },
   "outputs": [
    {
     "name": "stdout",
     "output_type": "stream",
     "text": [
      "(86, 1534)\n"
     ]
    }
   ],
   "source": [
    "print(met_mask.shape)"
   ]
  },
  {
   "cell_type": "code",
   "execution_count": 4,
   "metadata": {
    "collapsed": false
   },
   "outputs": [
    {
     "name": "stdout",
     "output_type": "stream",
     "text": [
      "(1534, 86)\n"
     ]
    }
   ],
   "source": [
    "print(met_mask.T.shape)"
   ]
  },
  {
   "cell_type": "code",
   "execution_count": null,
   "metadata": {
    "collapsed": true
   },
   "outputs": [],
   "source": []
  }
 ],
 "metadata": {
  "kernelspec": {
   "display_name": "Python 3",
   "language": "python",
   "name": "python3"
  },
  "language_info": {
   "codemirror_mode": {
    "name": "ipython",
    "version": 3
   },
   "file_extension": ".py",
   "mimetype": "text/x-python",
   "name": "python",
   "nbconvert_exporter": "python",
   "pygments_lexer": "ipython3",
   "version": "3.5.2"
  }
 },
 "nbformat": 4,
 "nbformat_minor": 2
}
